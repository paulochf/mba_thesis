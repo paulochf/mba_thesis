{
 "cells": [
  {
   "cell_type": "code",
   "execution_count": 25,
   "metadata": {},
   "outputs": [],
   "source": [
    "import pandas as pd\n",
    "from pandas.testing import assert_frame_equal\n",
    "from typing import Tuple\n",
    "\n",
    "from pipelines.utils.config import get_env_var_as_path"
   ]
  },
  {
   "cell_type": "code",
   "execution_count": 11,
   "metadata": {
    "collapsed": false,
    "jupyter": {
     "outputs_hidden": false
    },
    "pycharm": {
     "name": "#%%\n"
    }
   },
   "outputs": [
    {
     "data": {
      "text/plain": [
       "(PosixPath('/home/paulo/Documents/mba_tcc/data/2_final'),\n",
       " PosixPath('/home/paulo/Documents/mba_tcc/data/1_interim/0__raw_to_parquet'))"
      ]
     },
     "execution_count": 11,
     "metadata": {},
     "output_type": "execute_result"
    }
   ],
   "source": [
    "index_path = get_env_var_as_path(\"PATH_DATA_FINAL\")\n",
    "input_path = get_env_var_as_path(\"PATH_DATA_INTERIM_RAW2PARQUET\")\n",
    "index_path, input_path"
   ]
  },
  {
   "cell_type": "code",
   "execution_count": 12,
   "metadata": {},
   "outputs": [],
   "source": [
    "index_df = pd.read_parquet(index_path / \"files_index.parquet\")"
   ]
  },
  {
   "cell_type": "code",
   "execution_count": 13,
   "metadata": {},
   "outputs": [
    {
     "data": {
      "text/plain": [
       "{'file_path': '/home/paulo/Documents/mba_tcc/data/0_raw/UCR_Anomaly_FullData/001_UCR_Anomaly_DISTORTED1sddb40_35000_52000_52620.txt',\n",
       " 'file_name': '001_UCR_Anomaly_DISTORTED1sddb40_35000_52000_52620.txt',\n",
       " 'file_number': 1,\n",
       " 'mnemonic': 'DISTORTED1sddb40',\n",
       " 'training_index_end': 35000,\n",
       " 'anomaly_index_start': 52000,\n",
       " 'anomaly_index_end': 52620}"
      ]
     },
     "execution_count": 13,
     "metadata": {},
     "output_type": "execute_result"
    }
   ],
   "source": [
    "raw_data_file = index_df.iloc[0].to_dict()\n",
    "raw_data_file"
   ]
  },
  {
   "cell_type": "code",
   "execution_count": 16,
   "metadata": {},
   "outputs": [],
   "source": [
    "data_file_path = (input_path / raw_data_file[\"file_name\"]).with_suffix(\".parquet\")\n",
    "data_file = pd.read_parquet(data_file_path)"
   ]
  },
  {
   "cell_type": "code",
   "execution_count": 19,
   "metadata": {},
   "outputs": [],
   "source": [
    "train_df = data_file.loc[:raw_data_file[\"training_index_end\"] - 1]\n",
    "test_df = data_file.loc[raw_data_file[\"training_index_end\"]:]"
   ]
  },
  {
   "cell_type": "code",
   "execution_count": 23,
   "metadata": {},
   "outputs": [],
   "source": [
    "def df_slice(df, index_start=0, index_end=None) -> Tuple[pd.DataFrame, pd.DataFrame]:\n",
    "    last_df_index = len(df)\n",
    "    if not index_end:\n",
    "        index_end = last_df_index\n",
    "        \n",
    "    return df.loc[index_start:index_end - 1]"
   ]
  },
  {
   "cell_type": "code",
   "execution_count": 27,
   "metadata": {},
   "outputs": [],
   "source": [
    "train_df_func = df_slice(data_file, index_end=raw_data_file[\"training_index_end\"]-1)\n",
    "test_df_func = df_slice(data_file, index_start=raw_data_file[\"training_index_end\"])"
   ]
  },
  {
   "cell_type": "code",
   "execution_count": 28,
   "metadata": {},
   "outputs": [],
   "source": [
    "assert_frame_equal(train_df, train_df_func)"
   ]
  },
  {
   "cell_type": "code",
   "execution_count": 29,
   "metadata": {},
   "outputs": [],
   "source": [
    "assert_frame_equal(test_df, test_df_func)"
   ]
  },
  {
   "cell_type": "code",
   "execution_count": 31,
   "metadata": {},
   "outputs": [],
   "source": [
    "assert len(data_file) == len(train_df) + len(test_df)"
   ]
  },
  {
   "cell_type": "code",
   "execution_count": 32,
   "metadata": {},
   "outputs": [],
   "source": [
    "assert len(data_file) == len(train_df_func) + len(test_df_func)"
   ]
  }
 ],
 "metadata": {
  "kernelspec": {
   "display_name": "Python 3 (ipykernel)",
   "language": "python",
   "name": "python3"
  },
  "language_info": {
   "codemirror_mode": {
    "name": "ipython",
    "version": 3
   },
   "file_extension": ".py",
   "mimetype": "text/x-python",
   "name": "python",
   "nbconvert_exporter": "python",
   "pygments_lexer": "ipython3",
   "version": "3.10.5"
  }
 },
 "nbformat": 4,
 "nbformat_minor": 4
}
