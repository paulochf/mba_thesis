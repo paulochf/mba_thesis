{
 "cells": [
  {
   "cell_type": "code",
   "execution_count": 1,
   "metadata": {
    "collapsed": false,
    "jupyter": {
     "outputs_hidden": false
    },
    "pycharm": {
     "name": "#%%\n"
    }
   },
   "outputs": [],
   "source": [
    "import pandas as pd\n",
    "from dotenv import load_dotenv\n",
    "from json import dump\n",
    "\n",
    "from utils.config import get_env_var_as_path"
   ]
  },
  {
   "cell_type": "code",
   "execution_count": 2,
   "metadata": {
    "collapsed": false,
    "jupyter": {
     "outputs_hidden": false
    },
    "pycharm": {
     "name": "#%%\n"
    }
   },
   "outputs": [
    {
     "data": {
      "text/plain": [
       "True"
      ]
     },
     "execution_count": 2,
     "metadata": {},
     "output_type": "execute_result"
    }
   ],
   "source": [
    "load_dotenv()"
   ]
  },
  {
   "cell_type": "code",
   "execution_count": 3,
   "metadata": {
    "collapsed": false,
    "jupyter": {
     "outputs_hidden": false
    },
    "pycharm": {
     "name": "#%%\n"
    }
   },
   "outputs": [
    {
     "data": {
      "text/plain": [
       "PosixPath('/home/paulo/Documents/mba_tcc/data/2_final')"
      ]
     },
     "execution_count": 3,
     "metadata": {},
     "output_type": "execute_result"
    }
   ],
   "source": [
    "final_path = get_env_var_as_path(\"PATH_DATA_FINAL\")\n",
    "final_path"
   ]
  },
  {
   "cell_type": "code",
   "execution_count": 4,
   "metadata": {
    "collapsed": false,
    "jupyter": {
     "outputs_hidden": false
    },
    "pycharm": {
     "name": "#%%\n"
    }
   },
   "outputs": [],
   "source": [
    "df = pd.read_parquet(final_path / \"files_index.parquet\")"
   ]
  },
  {
   "cell_type": "code",
   "execution_count": 5,
   "metadata": {
    "collapsed": false,
    "jupyter": {
     "outputs_hidden": false
    },
    "pycharm": {
     "name": "#%%\n"
    }
   },
   "outputs": [
    {
     "name": "stdout",
     "output_type": "stream",
     "text": [
      "<class 'pandas.core.frame.DataFrame'>\n",
      "RangeIndex: 250 entries, 0 to 249\n",
      "Data columns (total 7 columns):\n",
      " #   Column               Non-Null Count  Dtype \n",
      "---  ------               --------------  ----- \n",
      " 0   file_path            250 non-null    object\n",
      " 1   file_name            250 non-null    object\n",
      " 2   file_number          250 non-null    int64 \n",
      " 3   mnemonic             250 non-null    object\n",
      " 4   training_index_end   250 non-null    int64 \n",
      " 5   anomaly_index_start  250 non-null    int64 \n",
      " 6   anomaly_index_end    250 non-null    int64 \n",
      "dtypes: int64(4), object(3)\n",
      "memory usage: 13.8+ KB\n"
     ]
    }
   ],
   "source": [
    "df.info()"
   ]
  },
  {
   "cell_type": "code",
   "execution_count": 6,
   "metadata": {
    "collapsed": false,
    "jupyter": {
     "outputs_hidden": false
    },
    "pycharm": {
     "name": "#%%\n"
    }
   },
   "outputs": [
    {
     "data": {
      "text/html": [
       "<div>\n",
       "<style scoped>\n",
       "    .dataframe tbody tr th:only-of-type {\n",
       "        vertical-align: middle;\n",
       "    }\n",
       "\n",
       "    .dataframe tbody tr th {\n",
       "        vertical-align: top;\n",
       "    }\n",
       "\n",
       "    .dataframe thead th {\n",
       "        text-align: right;\n",
       "    }\n",
       "</style>\n",
       "<table border=\"1\" class=\"dataframe\">\n",
       "  <thead>\n",
       "    <tr style=\"text-align: right;\">\n",
       "      <th></th>\n",
       "      <th>file_path</th>\n",
       "      <th>file_name</th>\n",
       "      <th>file_number</th>\n",
       "      <th>mnemonic</th>\n",
       "      <th>training_index_end</th>\n",
       "      <th>anomaly_index_start</th>\n",
       "      <th>anomaly_index_end</th>\n",
       "    </tr>\n",
       "  </thead>\n",
       "  <tbody>\n",
       "    <tr>\n",
       "      <th>0</th>\n",
       "      <td>/home/paulo/Documents/mba_tcc/data/0_raw/UCR_A...</td>\n",
       "      <td>001_UCR_Anomaly_DISTORTED1sddb40_35000_52000_5...</td>\n",
       "      <td>1</td>\n",
       "      <td>DISTORTED1sddb40</td>\n",
       "      <td>35000</td>\n",
       "      <td>52000</td>\n",
       "      <td>52620</td>\n",
       "    </tr>\n",
       "    <tr>\n",
       "      <th>1</th>\n",
       "      <td>/home/paulo/Documents/mba_tcc/data/0_raw/UCR_A...</td>\n",
       "      <td>002_UCR_Anomaly_DISTORTED2sddb40_35000_56600_5...</td>\n",
       "      <td>2</td>\n",
       "      <td>DISTORTED2sddb40</td>\n",
       "      <td>35000</td>\n",
       "      <td>56600</td>\n",
       "      <td>56900</td>\n",
       "    </tr>\n",
       "    <tr>\n",
       "      <th>2</th>\n",
       "      <td>/home/paulo/Documents/mba_tcc/data/0_raw/UCR_A...</td>\n",
       "      <td>003_UCR_Anomaly_DISTORTED3sddb40_35000_46600_4...</td>\n",
       "      <td>3</td>\n",
       "      <td>DISTORTED3sddb40</td>\n",
       "      <td>35000</td>\n",
       "      <td>46600</td>\n",
       "      <td>46900</td>\n",
       "    </tr>\n",
       "    <tr>\n",
       "      <th>3</th>\n",
       "      <td>/home/paulo/Documents/mba_tcc/data/0_raw/UCR_A...</td>\n",
       "      <td>004_UCR_Anomaly_DISTORTEDBIDMC1_2500_5400_5600...</td>\n",
       "      <td>4</td>\n",
       "      <td>DISTORTEDBIDMC1</td>\n",
       "      <td>2500</td>\n",
       "      <td>5400</td>\n",
       "      <td>5600</td>\n",
       "    </tr>\n",
       "    <tr>\n",
       "      <th>4</th>\n",
       "      <td>/home/paulo/Documents/mba_tcc/data/0_raw/UCR_A...</td>\n",
       "      <td>005_UCR_Anomaly_DISTORTEDCIMIS44AirTemperature...</td>\n",
       "      <td>5</td>\n",
       "      <td>DISTORTEDCIMIS44AirTemperature1</td>\n",
       "      <td>4000</td>\n",
       "      <td>5391</td>\n",
       "      <td>5392</td>\n",
       "    </tr>\n",
       "  </tbody>\n",
       "</table>\n",
       "</div>"
      ],
      "text/plain": [
       "                                           file_path  \\\n",
       "0  /home/paulo/Documents/mba_tcc/data/0_raw/UCR_A...   \n",
       "1  /home/paulo/Documents/mba_tcc/data/0_raw/UCR_A...   \n",
       "2  /home/paulo/Documents/mba_tcc/data/0_raw/UCR_A...   \n",
       "3  /home/paulo/Documents/mba_tcc/data/0_raw/UCR_A...   \n",
       "4  /home/paulo/Documents/mba_tcc/data/0_raw/UCR_A...   \n",
       "\n",
       "                                           file_name  file_number  \\\n",
       "0  001_UCR_Anomaly_DISTORTED1sddb40_35000_52000_5...            1   \n",
       "1  002_UCR_Anomaly_DISTORTED2sddb40_35000_56600_5...            2   \n",
       "2  003_UCR_Anomaly_DISTORTED3sddb40_35000_46600_4...            3   \n",
       "3  004_UCR_Anomaly_DISTORTEDBIDMC1_2500_5400_5600...            4   \n",
       "4  005_UCR_Anomaly_DISTORTEDCIMIS44AirTemperature...            5   \n",
       "\n",
       "                          mnemonic  training_index_end  anomaly_index_start  \\\n",
       "0                 DISTORTED1sddb40               35000                52000   \n",
       "1                 DISTORTED2sddb40               35000                56600   \n",
       "2                 DISTORTED3sddb40               35000                46600   \n",
       "3                  DISTORTEDBIDMC1                2500                 5400   \n",
       "4  DISTORTEDCIMIS44AirTemperature1                4000                 5391   \n",
       "\n",
       "   anomaly_index_end  \n",
       "0              52620  \n",
       "1              56900  \n",
       "2              46900  \n",
       "3               5600  \n",
       "4               5392  "
      ]
     },
     "execution_count": 6,
     "metadata": {},
     "output_type": "execute_result"
    }
   ],
   "source": [
    "df.head()"
   ]
  },
  {
   "cell_type": "code",
   "execution_count": 7,
   "metadata": {},
   "outputs": [
    {
     "data": {
      "text/plain": [
       "{'file_path': '/home/paulo/Documents/mba_tcc/data/0_raw/UCR_Anomaly_FullData/001_UCR_Anomaly_DISTORTED1sddb40_35000_52000_52620.txt',\n",
       " 'file_name': '001_UCR_Anomaly_DISTORTED1sddb40_35000_52000_52620.txt',\n",
       " 'file_number': 1,\n",
       " 'mnemonic': 'DISTORTED1sddb40',\n",
       " 'training_index_end': 35000,\n",
       " 'anomaly_index_start': 52000,\n",
       " 'anomaly_index_end': 52620}"
      ]
     },
     "execution_count": 7,
     "metadata": {},
     "output_type": "execute_result"
    }
   ],
   "source": [
    "test_sample = df[df.file_number == 1].to_dict(orient=\"records\")[0]\n",
    "test_sample"
   ]
  },
  {
   "cell_type": "code",
   "execution_count": 8,
   "metadata": {},
   "outputs": [],
   "source": [
    "project_root_path = get_env_var_as_path(\"PROJECT_PATH\")"
   ]
  },
  {
   "cell_type": "code",
   "execution_count": 13,
   "metadata": {},
   "outputs": [
    {
     "data": {
      "text/plain": [
       "PosixPath('/home/paulo/Documents/mba_tcc/src/tests/resources/file_input_row.json')"
      ]
     },
     "execution_count": 13,
     "metadata": {},
     "output_type": "execute_result"
    }
   ],
   "source": [
    "test_input_json = project_root_path / \"src/tests/resources/file_input_row.json\"\n",
    "test_input_json"
   ]
  },
  {
   "cell_type": "code",
   "execution_count": 14,
   "metadata": {},
   "outputs": [],
   "source": [
    "df[df.file_number == 1].to_json(test_input_json, orient=\"records\", lines=True)"
   ]
  },
  {
   "cell_type": "code",
   "execution_count": null,
   "metadata": {},
   "outputs": [],
   "source": []
  }
 ],
 "metadata": {
  "kernelspec": {
   "display_name": "Python 3 (ipykernel)",
   "language": "python",
   "name": "python3"
  },
  "language_info": {
   "codemirror_mode": {
    "name": "ipython",
    "version": 3
   },
   "file_extension": ".py",
   "mimetype": "text/x-python",
   "name": "python",
   "nbconvert_exporter": "python",
   "pygments_lexer": "ipython3",
   "version": "3.10.5"
  }
 },
 "nbformat": 4,
 "nbformat_minor": 4
}
