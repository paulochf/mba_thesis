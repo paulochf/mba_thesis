{
 "cells": [
  {
   "cell_type": "code",
   "execution_count": 1,
   "id": "e0cb8747-2bbd-4bec-a29a-db3cf8966ae3",
   "metadata": {},
   "outputs": [],
   "source": [
    "import pandas as pd\n",
    "from dotenv import load_dotenv\n",
    "\n",
    "from utils.config import get_env_var_as_path"
   ]
  },
  {
   "cell_type": "code",
   "execution_count": 2,
   "id": "83b435a4-21db-4f10-bec0-d43bf64ea40d",
   "metadata": {},
   "outputs": [],
   "source": [
    "predictions_folder_path = get_env_var_as_path(\"PATH_DATA_FINAL_PREDICTION\")"
   ]
  },
  {
   "cell_type": "code",
   "execution_count": 3,
   "id": "31361999-739d-4b28-9921-e3c4cef5ef8e",
   "metadata": {},
   "outputs": [],
   "source": [
    "train_folder_path = get_env_var_as_path(\"PATH_DATA_FINAL_TRAIN\")\n",
    "test_folder_path = get_env_var_as_path(\"PATH_DATA_FINAL_TEST\")"
   ]
  },
  {
   "cell_type": "code",
   "execution_count": 4,
   "id": "a5f529ab-a06c-4936-bad5-c42a5b0d8bc7",
   "metadata": {},
   "outputs": [],
   "source": [
    "train_files = sorted(train_folder_path.glob(\"*\"))\n",
    "test_files = sorted(test_folder_path.glob(\"*\"))"
   ]
  }
 ],
 "metadata": {
  "kernelspec": {
   "display_name": "Python 3 (ipykernel)",
   "language": "python",
   "name": "python3"
  },
  "language_info": {
   "codemirror_mode": {
    "name": "ipython",
    "version": 3
   },
   "file_extension": ".py",
   "mimetype": "text/x-python",
   "name": "python",
   "nbconvert_exporter": "python",
   "pygments_lexer": "ipython3",
   "version": "3.10.5"
  }
 },
 "nbformat": 4,
 "nbformat_minor": 5
}
