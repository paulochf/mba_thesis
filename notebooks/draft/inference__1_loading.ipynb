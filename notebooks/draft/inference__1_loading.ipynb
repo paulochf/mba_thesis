{
 "cells": [
  {
   "cell_type": "code",
   "execution_count": 1,
   "id": "e0cb8747-2bbd-4bec-a29a-db3cf8966ae3",
   "metadata": {},
   "outputs": [],
   "source": [
    "import pandas as pd\n",
    "from dotenv import load_dotenv\n",
    "\n",
    "from utils.config import get_env_var_as_path"
   ]
  },
  {
   "cell_type": "code",
   "execution_count": 5,
   "id": "20d53263-1523-49cb-a8f0-d6858348d8ea",
   "metadata": {},
   "outputs": [],
   "source": [
    "file_index_path = get_env_var_as_path(\"PATH_DATA_FINAL\")\n",
    "\n",
    "inputs_folder_path = get_env_var_as_path(\"PATH_DATA_FINAL_INPUT\")\n",
    "predictions_folder_path = get_env_var_as_path(\"PATH_DATA_FINAL_PREDICTION\")"
   ]
  },
  {
   "cell_type": "code",
   "execution_count": 4,
   "id": "a5f529ab-a06c-4936-bad5-c42a5b0d8bc7",
   "metadata": {},
   "outputs": [],
   "source": [
    "input_files = sorted(inputs_folder_path.glob(\"*\"))"
   ]
  }
 ],
 "metadata": {
  "kernelspec": {
   "display_name": "Python 3 (ipykernel)",
   "language": "python",
   "name": "python3"
  },
  "language_info": {
   "codemirror_mode": {
    "name": "ipython",
    "version": 3
   },
   "file_extension": ".py",
   "mimetype": "text/x-python",
   "name": "python",
   "nbconvert_exporter": "python",
   "pygments_lexer": "ipython3",
   "version": "3.10.5"
  }
 },
 "nbformat": 4,
 "nbformat_minor": 5
}
