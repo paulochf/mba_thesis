{
 "cells": [
  {
   "cell_type": "code",
   "execution_count": 3,
   "metadata": {
    "collapsed": false,
    "jupyter": {
     "outputs_hidden": false
    },
    "pycharm": {
     "name": "#%%\n"
    }
   },
   "outputs": [],
   "source": [
    "import pandas as pd\n",
    "from dotenv import load_dotenv\n",
    "\n",
    "from utils.utils import get_env_var_as_path"
   ]
  },
  {
   "cell_type": "code",
   "execution_count": 4,
   "metadata": {
    "collapsed": false,
    "jupyter": {
     "outputs_hidden": false
    },
    "pycharm": {
     "name": "#%%\n"
    }
   },
   "outputs": [],
   "source": [
    "load_dotenv()\n",
    "\n",
    "final_path = get_env_var_as_path(\"PATH_DATA_FINAL\")"
   ]
  },
  {
   "cell_type": "code",
   "execution_count": 13,
   "metadata": {
    "collapsed": false,
    "jupyter": {
     "outputs_hidden": false
    },
    "pycharm": {
     "name": "#%%\n"
    }
   },
   "outputs": [],
   "source": [
    "df = pd.read_parquet(\"..\" / final_path / \"files_index.parquet\")"
   ]
  },
  {
   "cell_type": "code",
   "execution_count": 14,
   "metadata": {
    "collapsed": false,
    "jupyter": {
     "outputs_hidden": false
    },
    "pycharm": {
     "name": "#%%\n"
    }
   },
   "outputs": [
    {
     "name": "stdout",
     "output_type": "stream",
     "text": [
      "<class 'pandas.core.frame.DataFrame'>\n",
      "RangeIndex: 250 entries, 0 to 249\n",
      "Data columns (total 6 columns):\n",
      " #   Column         Non-Null Count  Dtype \n",
      "---  ------         --------------  ----- \n",
      " 0   path           250 non-null    object\n",
      " 1   filename       250 non-null    object\n",
      " 2   mnemonic       250 non-null    object\n",
      " 3   training_end   250 non-null    object\n",
      " 4   anomaly_start  250 non-null    object\n",
      " 5   anomaly_end    250 non-null    object\n",
      "dtypes: object(6)\n",
      "memory usage: 11.8+ KB\n"
     ]
    }
   ],
   "source": [
    "df.info()"
   ]
  },
  {
   "cell_type": "code",
   "execution_count": 15,
   "metadata": {
    "collapsed": false,
    "jupyter": {
     "outputs_hidden": false
    },
    "pycharm": {
     "name": "#%%\n"
    }
   },
   "outputs": [
    {
     "data": {
      "text/html": [
       "<div>\n",
       "<style scoped>\n",
       "    .dataframe tbody tr th:only-of-type {\n",
       "        vertical-align: middle;\n",
       "    }\n",
       "\n",
       "    .dataframe tbody tr th {\n",
       "        vertical-align: top;\n",
       "    }\n",
       "\n",
       "    .dataframe thead th {\n",
       "        text-align: right;\n",
       "    }\n",
       "</style>\n",
       "<table border=\"1\" class=\"dataframe\">\n",
       "  <thead>\n",
       "    <tr style=\"text-align: right;\">\n",
       "      <th></th>\n",
       "      <th>path</th>\n",
       "      <th>filename</th>\n",
       "      <th>mnemonic</th>\n",
       "      <th>training_end</th>\n",
       "      <th>anomaly_start</th>\n",
       "      <th>anomaly_end</th>\n",
       "    </tr>\n",
       "  </thead>\n",
       "  <tbody>\n",
       "    <tr>\n",
       "      <th>0</th>\n",
       "      <td>data/0_raw/UCR_Anomaly_FullData/001_UCR_Anomal...</td>\n",
       "      <td>001_UCR_Anomaly_DISTORTED1sddb40_35000_52000_5...</td>\n",
       "      <td>DISTORTED1sddb40</td>\n",
       "      <td>35000</td>\n",
       "      <td>52000</td>\n",
       "      <td>52620</td>\n",
       "    </tr>\n",
       "    <tr>\n",
       "      <th>1</th>\n",
       "      <td>data/0_raw/UCR_Anomaly_FullData/002_UCR_Anomal...</td>\n",
       "      <td>002_UCR_Anomaly_DISTORTED2sddb40_35000_56600_5...</td>\n",
       "      <td>DISTORTED2sddb40</td>\n",
       "      <td>35000</td>\n",
       "      <td>56600</td>\n",
       "      <td>56900</td>\n",
       "    </tr>\n",
       "    <tr>\n",
       "      <th>2</th>\n",
       "      <td>data/0_raw/UCR_Anomaly_FullData/003_UCR_Anomal...</td>\n",
       "      <td>003_UCR_Anomaly_DISTORTED3sddb40_35000_46600_4...</td>\n",
       "      <td>DISTORTED3sddb40</td>\n",
       "      <td>35000</td>\n",
       "      <td>46600</td>\n",
       "      <td>46900</td>\n",
       "    </tr>\n",
       "    <tr>\n",
       "      <th>3</th>\n",
       "      <td>data/0_raw/UCR_Anomaly_FullData/004_UCR_Anomal...</td>\n",
       "      <td>004_UCR_Anomaly_DISTORTEDBIDMC1_2500_5400_5600...</td>\n",
       "      <td>DISTORTEDBIDMC1</td>\n",
       "      <td>2500</td>\n",
       "      <td>5400</td>\n",
       "      <td>5600</td>\n",
       "    </tr>\n",
       "    <tr>\n",
       "      <th>4</th>\n",
       "      <td>data/0_raw/UCR_Anomaly_FullData/005_UCR_Anomal...</td>\n",
       "      <td>005_UCR_Anomaly_DISTORTEDCIMIS44AirTemperature...</td>\n",
       "      <td>DISTORTEDCIMIS44AirTemperature1</td>\n",
       "      <td>4000</td>\n",
       "      <td>5391</td>\n",
       "      <td>5392</td>\n",
       "    </tr>\n",
       "  </tbody>\n",
       "</table>\n",
       "</div>"
      ],
      "text/plain": [
       "                                                path  \\\n",
       "0  data/0_raw/UCR_Anomaly_FullData/001_UCR_Anomal...   \n",
       "1  data/0_raw/UCR_Anomaly_FullData/002_UCR_Anomal...   \n",
       "2  data/0_raw/UCR_Anomaly_FullData/003_UCR_Anomal...   \n",
       "3  data/0_raw/UCR_Anomaly_FullData/004_UCR_Anomal...   \n",
       "4  data/0_raw/UCR_Anomaly_FullData/005_UCR_Anomal...   \n",
       "\n",
       "                                            filename  \\\n",
       "0  001_UCR_Anomaly_DISTORTED1sddb40_35000_52000_5...   \n",
       "1  002_UCR_Anomaly_DISTORTED2sddb40_35000_56600_5...   \n",
       "2  003_UCR_Anomaly_DISTORTED3sddb40_35000_46600_4...   \n",
       "3  004_UCR_Anomaly_DISTORTEDBIDMC1_2500_5400_5600...   \n",
       "4  005_UCR_Anomaly_DISTORTEDCIMIS44AirTemperature...   \n",
       "\n",
       "                          mnemonic training_end anomaly_start anomaly_end  \n",
       "0                 DISTORTED1sddb40        35000         52000       52620  \n",
       "1                 DISTORTED2sddb40        35000         56600       56900  \n",
       "2                 DISTORTED3sddb40        35000         46600       46900  \n",
       "3                  DISTORTEDBIDMC1         2500          5400        5600  \n",
       "4  DISTORTEDCIMIS44AirTemperature1         4000          5391        5392  "
      ]
     },
     "execution_count": 15,
     "metadata": {},
     "output_type": "execute_result"
    }
   ],
   "source": [
    "df.head()"
   ]
  }
 ],
 "metadata": {
  "kernelspec": {
   "display_name": "Python 3 (ipykernel)",
   "language": "python",
   "name": "python3"
  },
  "language_info": {
   "codemirror_mode": {
    "name": "ipython",
    "version": 3
   },
   "file_extension": ".py",
   "mimetype": "text/x-python",
   "name": "python",
   "nbconvert_exporter": "python",
   "pygments_lexer": "ipython3",
   "version": "3.10.5"
  }
 },
 "nbformat": 4,
 "nbformat_minor": 4
}
